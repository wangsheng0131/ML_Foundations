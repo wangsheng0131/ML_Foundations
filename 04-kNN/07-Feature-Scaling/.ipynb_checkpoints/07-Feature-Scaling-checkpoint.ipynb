{
 "cells": [
  {
   "cell_type": "markdown",
   "metadata": {},
   "source": [
    "# 数据归一化处理"
   ]
  },
  {
   "cell_type": "code",
   "execution_count": 1,
   "metadata": {},
   "outputs": [],
   "source": [
    "import numpy as np\n",
    "import matplotlib.pyplot as plt"
   ]
  },
  {
   "cell_type": "markdown",
   "metadata": {},
   "source": [
    "\n",
    "## 最值归一化 Normalization"
   ]
  },
  {
   "cell_type": "code",
   "execution_count": 2,
   "metadata": {},
   "outputs": [],
   "source": [
    "x =np.random.randint(0,100,100)"
   ]
  },
  {
   "cell_type": "code",
   "execution_count": 3,
   "metadata": {},
   "outputs": [
    {
     "data": {
      "text/plain": [
       "array([38, 56, 31, 43, 16, 50, 78, 36, 84, 44, 41,  0, 92, 13, 69, 97, 81,\n",
       "       83, 65, 25, 38, 80, 82, 69, 35, 40, 26, 31,  7, 45, 67, 68, 46, 33,\n",
       "        7, 49, 51, 75, 33, 30, 87, 32, 20, 55, 75, 86, 28, 19, 65, 89, 97,\n",
       "       34, 41, 35, 48, 30, 21,  7, 93, 13, 64, 33, 64, 51, 53, 62, 15, 16,\n",
       "       70, 16, 30, 21, 11, 43, 14, 92, 14, 61, 46, 76, 12, 47, 37,  9, 60,\n",
       "       52, 94, 91, 45, 36,  7, 54, 49,  9, 10,  4, 14, 19, 10, 25])"
      ]
     },
     "execution_count": 3,
     "metadata": {},
     "output_type": "execute_result"
    }
   ],
   "source": [
    "x"
   ]
  },
  {
   "cell_type": "code",
   "execution_count": 4,
   "metadata": {},
   "outputs": [
    {
     "data": {
      "text/plain": [
       "array([0.39175258, 0.57731959, 0.31958763, 0.44329897, 0.16494845,\n",
       "       0.51546392, 0.80412371, 0.37113402, 0.86597938, 0.45360825,\n",
       "       0.42268041, 0.        , 0.94845361, 0.13402062, 0.71134021,\n",
       "       1.        , 0.83505155, 0.8556701 , 0.67010309, 0.25773196,\n",
       "       0.39175258, 0.82474227, 0.84536082, 0.71134021, 0.36082474,\n",
       "       0.41237113, 0.26804124, 0.31958763, 0.07216495, 0.46391753,\n",
       "       0.69072165, 0.70103093, 0.4742268 , 0.34020619, 0.07216495,\n",
       "       0.50515464, 0.5257732 , 0.77319588, 0.34020619, 0.30927835,\n",
       "       0.89690722, 0.32989691, 0.20618557, 0.56701031, 0.77319588,\n",
       "       0.88659794, 0.28865979, 0.19587629, 0.67010309, 0.91752577,\n",
       "       1.        , 0.35051546, 0.42268041, 0.36082474, 0.49484536,\n",
       "       0.30927835, 0.21649485, 0.07216495, 0.95876289, 0.13402062,\n",
       "       0.65979381, 0.34020619, 0.65979381, 0.5257732 , 0.54639175,\n",
       "       0.63917526, 0.15463918, 0.16494845, 0.72164948, 0.16494845,\n",
       "       0.30927835, 0.21649485, 0.11340206, 0.44329897, 0.1443299 ,\n",
       "       0.94845361, 0.1443299 , 0.62886598, 0.4742268 , 0.78350515,\n",
       "       0.12371134, 0.48453608, 0.3814433 , 0.09278351, 0.6185567 ,\n",
       "       0.53608247, 0.96907216, 0.93814433, 0.46391753, 0.37113402,\n",
       "       0.07216495, 0.55670103, 0.50515464, 0.09278351, 0.10309278,\n",
       "       0.04123711, 0.1443299 , 0.19587629, 0.10309278, 0.25773196])"
      ]
     },
     "execution_count": 4,
     "metadata": {},
     "output_type": "execute_result"
    }
   ],
   "source": [
    "(x-np.min(x))/np.max(x)-np.min(x)"
   ]
  },
  {
   "cell_type": "code",
   "execution_count": 5,
   "metadata": {},
   "outputs": [],
   "source": [
    "X=np.random.randint(0,100,(50,2))"
   ]
  },
  {
   "cell_type": "code",
   "execution_count": 6,
   "metadata": {},
   "outputs": [],
   "source": [
    "X=np.array(X,dtype='float')"
   ]
  },
  {
   "cell_type": "code",
   "execution_count": 7,
   "metadata": {},
   "outputs": [
    {
     "data": {
      "text/plain": [
       "array([[75., 91.],\n",
       "       [18., 29.],\n",
       "       [98., 37.],\n",
       "       [10., 44.],\n",
       "       [64.,  8.],\n",
       "       [45.,  5.],\n",
       "       [50., 44.],\n",
       "       [ 5., 21.],\n",
       "       [95., 15.],\n",
       "       [62., 80.],\n",
       "       [69., 61.],\n",
       "       [84., 84.],\n",
       "       [14., 29.],\n",
       "       [30., 47.],\n",
       "       [ 4., 55.],\n",
       "       [20., 53.],\n",
       "       [92., 52.],\n",
       "       [75., 81.],\n",
       "       [74., 40.],\n",
       "       [96., 27.],\n",
       "       [63., 12.],\n",
       "       [20., 97.],\n",
       "       [30., 29.],\n",
       "       [22., 25.],\n",
       "       [66., 30.],\n",
       "       [52., 21.],\n",
       "       [77., 94.],\n",
       "       [45., 46.],\n",
       "       [22., 78.],\n",
       "       [23., 33.],\n",
       "       [12., 61.],\n",
       "       [87., 38.],\n",
       "       [51.,  3.],\n",
       "       [18., 31.],\n",
       "       [39., 99.],\n",
       "       [28., 50.],\n",
       "       [67., 70.],\n",
       "       [10., 35.],\n",
       "       [47., 28.],\n",
       "       [ 8., 74.],\n",
       "       [13., 88.],\n",
       "       [76., 63.],\n",
       "       [50., 66.],\n",
       "       [66., 10.],\n",
       "       [28.,  9.],\n",
       "       [30., 76.],\n",
       "       [87., 63.],\n",
       "       [72., 56.],\n",
       "       [91., 28.],\n",
       "       [50., 44.]])"
      ]
     },
     "execution_count": 7,
     "metadata": {},
     "output_type": "execute_result"
    }
   ],
   "source": [
    "X"
   ]
  },
  {
   "cell_type": "code",
   "execution_count": 8,
   "metadata": {},
   "outputs": [],
   "source": [
    "X[:,0]=(X[:,0]-np.min(X[:,0]))/(np.max(X[:,0])-np.min(X[:,0]))\n",
    "X[:,1]=(X[:,1]-np.min(X[:,1]))/(np.max(X[:,1])-np.min(X[:,1]))"
   ]
  },
  {
   "cell_type": "code",
   "execution_count": 9,
   "metadata": {
    "scrolled": true
   },
   "outputs": [
    {
     "data": {
      "text/plain": [
       "array([[0.75531915, 0.91666667],\n",
       "       [0.14893617, 0.27083333],\n",
       "       [1.        , 0.35416667],\n",
       "       [0.06382979, 0.42708333],\n",
       "       [0.63829787, 0.05208333],\n",
       "       [0.43617021, 0.02083333],\n",
       "       [0.4893617 , 0.42708333],\n",
       "       [0.0106383 , 0.1875    ],\n",
       "       [0.96808511, 0.125     ],\n",
       "       [0.61702128, 0.80208333]])"
      ]
     },
     "execution_count": 9,
     "metadata": {},
     "output_type": "execute_result"
    }
   ],
   "source": [
    "X[:10,:]"
   ]
  },
  {
   "cell_type": "code",
   "execution_count": 10,
   "metadata": {},
   "outputs": [
    {
     "data": {
      "image/png": "[encoded data removed]",
      "text/plain": [
       "<Figure size 432x288 with 1 Axes>"
      ]
     },
     "metadata": {},
     "output_type": "display_data"
    }
   ],
   "source": [
    "plt.scatter(X[:,0],X[:,1])\n",
    "plt.show()"
   ]
  },
  {
   "cell_type": "code",
   "execution_count": 11,
   "metadata": {},
   "outputs": [
    {
     "data": {
      "text/plain": [
       "0.47446808510638305"
      ]
     },
     "execution_count": 11,
     "metadata": {},
     "output_type": "execute_result"
    }
   ],
   "source": [
    "np.mean(X[:,0])"
   ]
  },
  {
   "cell_type": "code",
   "execution_count": 12,
   "metadata": {},
   "outputs": [
    {
     "data": {
      "text/plain": [
       "0.3038309791978526"
      ]
     },
     "execution_count": 12,
     "metadata": {},
     "output_type": "execute_result"
    }
   ],
   "source": [
    "np.std(X[:,0])"
   ]
  },
  {
   "cell_type": "code",
   "execution_count": 13,
   "metadata": {},
   "outputs": [
    {
     "data": {
      "text/plain": [
       "0.46041666666666664"
      ]
     },
     "execution_count": 13,
     "metadata": {},
     "output_type": "execute_result"
    }
   ],
   "source": [
    "np.mean(X[:,1])"
   ]
  },
  {
   "cell_type": "code",
   "execution_count": 14,
   "metadata": {},
   "outputs": [
    {
     "data": {
      "text/plain": [
       "0.27377409838121"
      ]
     },
     "execution_count": 14,
     "metadata": {},
     "output_type": "execute_result"
    }
   ],
   "source": [
    "np.std(X[:,1])"
   ]
  },
  {
   "cell_type": "markdown",
   "metadata": {},
   "source": [
    "## 均值方差归一化 Standardization"
   ]
  },
  {
   "cell_type": "code",
   "execution_count": 15,
   "metadata": {},
   "outputs": [],
   "source": [
    "X2=np.random.randint(0,100,(50,2))"
   ]
  },
  {
   "cell_type": "code",
   "execution_count": 17,
   "metadata": {},
   "outputs": [],
   "source": [
    "X2=np.array(X2,dtype='float')"
   ]
  },
  {
   "cell_type": "code",
   "execution_count": 19,
   "metadata": {},
   "outputs": [
    {
     "data": {
      "text/plain": [
       "array([[29.,  0.],\n",
       "       [ 0., 56.],\n",
       "       [43.,  8.],\n",
       "       [97., 85.],\n",
       "       [67., 77.],\n",
       "       [28.,  1.],\n",
       "       [82., 35.],\n",
       "       [12.,  4.],\n",
       "       [79., 17.],\n",
       "       [14., 21.]])"
      ]
     },
     "execution_count": 19,
     "metadata": {},
     "output_type": "execute_result"
    }
   ],
   "source": [
    "X2[:10,:]"
   ]
  },
  {
   "cell_type": "code",
   "execution_count": 20,
   "metadata": {},
   "outputs": [],
   "source": [
    "X2[:,0]=(X2[:,0]-np.mean(X2[:,0]))/np.std(X2[:,0])\n",
    "X2[:,1]=(X2[:,1]-np.mean(X2[:,1]))/np.std(X2[:,1])"
   ]
  },
  {
   "cell_type": "code",
   "execution_count": 21,
   "metadata": {},
   "outputs": [
    {
     "data": {
      "image/png": "[encoded data removed]",
      "text/plain": [
       "<Figure size 432x288 with 1 Axes>"
      ]
     },
     "metadata": {},
     "output_type": "display_data"
    }
   ],
   "source": [
    "plt.scatter(X2[:,0],X2[:,1])\n",
    "plt.show()"
   ]
  },
  {
   "cell_type": "code",
   "execution_count": 22,
   "metadata": {},
   "outputs": [
    {
     "data": {
      "text/plain": [
       "-6.661338147750939e-17"
      ]
     },
     "execution_count": 22,
     "metadata": {},
     "output_type": "execute_result"
    }
   ],
   "source": [
    "np.mean(X2[:,0])"
   ]
  },
  {
   "cell_type": "code",
   "execution_count": 23,
   "metadata": {},
   "outputs": [
    {
     "data": {
      "text/plain": [
       "0.9999999999999999"
      ]
     },
     "execution_count": 23,
     "metadata": {},
     "output_type": "execute_result"
    }
   ],
   "source": [
    "np.std(X2[:,0])"
   ]
  },
  {
   "cell_type": "code",
   "execution_count": 24,
   "metadata": {},
   "outputs": [
    {
     "data": {
      "text/plain": [
       "1.1990408665951691e-16"
      ]
     },
     "execution_count": 24,
     "metadata": {},
     "output_type": "execute_result"
    }
   ],
   "source": [
    "np.mean(X2[:,1])"
   ]
  },
  {
   "cell_type": "code",
   "execution_count": 25,
   "metadata": {},
   "outputs": [
    {
     "data": {
      "text/plain": [
       "0.9999999999999998"
      ]
     },
     "execution_count": 25,
     "metadata": {},
     "output_type": "execute_result"
    }
   ],
   "source": [
    "np.std(X2[:,1])"
   ]
  },
  {
   "cell_type": "code",
   "execution_count": null,
   "metadata": {},
   "outputs": [],
   "source": []
  }
 ],
 "metadata": {
  "kernelspec": {
   "display_name": "Python 3",
   "language": "python",
   "name": "python3"
  },
  "language_info": {
   "codemirror_mode": {
    "name": "ipython",
    "version": 3
   },
   "file_extension": ".py",
   "mimetype": "text/x-python",
   "name": "python",
   "nbconvert_exporter": "python",
   "pygments_lexer": "ipython3",
   "version": "3.6.5"
  }
 },
 "nbformat": 4,
 "nbformat_minor": 2
}
